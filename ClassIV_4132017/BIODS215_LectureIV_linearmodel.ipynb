{
 "cells": [
  {
   "cell_type": "markdown",
   "metadata": {
    "nbpresent": {
     "id": "3f812a7c-ef41-4c23-8658-46cccc32897e"
    },
    "slideshow": {
     "slide_type": "slide"
    }
   },
   "source": [
    "# Regression - The Linear model \n",
    "\n",
    "<br />\n",
    "### Prof. Manuel A. Rivas (<a href=\"rivaslab.stanford.edu\">rivaslab.stanford.edu</a>)\n",
    "#### Topics in Biomedical Data Science : Large-scale inference \n",
    "#### Lecture number 4\n",
    "#### 04/13/2017\n",
    "\n",
    "<img src=\"https://identity.stanford.edu/overview/images/signature/stanford-university.png\" alt=\"Stanford University\" style=\"width: 400px;\" align=\"right\"/>"
   ]
  },
  {
   "cell_type": "markdown",
   "metadata": {
    "slideshow": {
     "slide_type": "slide"
    }
   },
   "source": [
    "## Review concepts learned\n",
    "\n",
    "* Hypothesis testing and model comparison \n",
    "* Meta-analysis and variance components"
   ]
  },
  {
   "cell_type": "markdown",
   "metadata": {
    "slideshow": {
     "slide_type": "slide"
    }
   },
   "source": [
    "# Motivating examples for today \n",
    "\n",
    "* Regression models\n",
    "* Moving to rare variant association studies"
   ]
  },
  {
   "cell_type": "markdown",
   "metadata": {
    "slideshow": {
     "slide_type": "slide"
    }
   },
   "source": [
    "<center>\n",
    "![therapeutics](https://www.dropbox.com/s/b40xmb7ogliw9yt/therapeutic_hypotheses.png?dl=1 \"Source: Plenge, Scolnick, and Altshuler, 2013 Nature Reviews Drug Discovery\")\n",
    "</center>"
   ]
  },
  {
   "cell_type": "markdown",
   "metadata": {
    "slideshow": {
     "slide_type": "slide"
    }
   },
   "source": [
    "# Linear model "
   ]
  },
  {
   "cell_type": "markdown",
   "metadata": {
    "slideshow": {
     "slide_type": "slide"
    }
   },
   "source": [
    "## Linear regression \n",
    "<br>\n",
    "<br>\n",
    "Linear regression is one of the most widely used statstical tools. "
   ]
  },
  {
   "cell_type": "markdown",
   "metadata": {
    "slideshow": {
     "slide_type": "fragment"
    }
   },
   "source": [
    "In today's lecture we will focus on Bayesian model building and inference for normal linear models. \n",
    "\n",
    "Learning objective: To set up the relevant Bayesian models and draw samples from posterior distributions for parameters $\\theta$ and future observables $\\tilde{y}$. "
   ]
  },
  {
   "cell_type": "markdown",
   "metadata": {
    "slideshow": {
     "slide_type": "slide"
    }
   },
   "source": [
    "## Motivation\n",
    "\n",
    "* In many scientific studies concern relations among two or more observable quantities. A common question is: how does a quantity, $y$, vary as a function of another quantity or vector of quantities, $x$? "
   ]
  },
  {
   "cell_type": "markdown",
   "metadata": {
    "slideshow": {
     "slide_type": "slide"
    }
   },
   "source": [
    "We are interested in the conditional distribution of $y$, given $x$, denoted as $p\\left(y|\\theta, x\\right)$."
   ]
  },
  {
   "cell_type": "markdown",
   "metadata": {
    "slideshow": {
     "slide_type": "fragment"
    }
   },
   "source": [
    "* $y$ is called the *response* or *outcome variable*\n",
    "* $x = \\left(x_1, \\dots, x_k\\right)$ are called explanatory variables\n",
    "* Sometimes, a single variable $x_j$ may be of primary interest and consider it the *treatment* variable, labeling the other components of $x$ as the *control* variables"
   ]
  },
  {
   "cell_type": "markdown",
   "metadata": {
    "slideshow": {
     "slide_type": "slide"
    }
   },
   "source": [
    "## The Linear Model \n",
    "Let's rewrite to better accommodate notation. \n",
    "<center>\n",
    "$\\mathbb{y} = \\mathbb{X}\\mathbb{\\beta} + \\mathbb{\\epsilon}$\n",
    "</center>\n",
    "* $\\mathbb{y}$ is an $n\\times 1$ vector of observations ($n$ is the number of individuals in the study, for example). \n",
    "* $\\mathbb{X}$ is an $n\\times k$ matrix of known coefficients\n",
    "* $\\mathbb{\\beta}$ is a $k\\times 1$ vector of parameters \n",
    "* $\\mathbb{\\epsilon}$ isan $n\\times 1$ vector of random errors"
   ]
  },
  {
   "cell_type": "markdown",
   "metadata": {
    "slideshow": {
     "slide_type": "slide"
    }
   },
   "source": [
    "<center>\n",
    "The simplest and most widely used version of the linear model is the *normal linear model* \n",
    "</center>"
   ]
  },
  {
   "cell_type": "markdown",
   "metadata": {
    "slideshow": {
     "slide_type": "slide"
    }
   },
   "source": [
    "* The elements are assumed to have *zero* mean (critical and often overlooked in practice)\n",
    "* Assumed to be uncorrelated and to have common variance $\\sigma^2$, which becomes an additional parameter\n"
   ]
  },
  {
   "cell_type": "markdown",
   "metadata": {
    "slideshow": {
     "slide_type": "slide"
    }
   },
   "source": [
    "<span style=\"color:red\">Question: What are the parameters?</span>"
   ]
  },
  {
   "cell_type": "markdown",
   "metadata": {
    "slideshow": {
     "slide_type": "slide"
    }
   },
   "source": [
    "<span style=\"color:blue\">Answer: $\\theta = \\left(\\beta_1, \\dots, \\beta_k, \\sigma^2\\right)$</span>"
   ]
  },
  {
   "cell_type": "markdown",
   "metadata": {
    "slideshow": {
     "slide_type": "slide"
    }
   },
   "source": [
    "## Key statistical modeling issues in normal linear model framework \n",
    "1. Defining the variables $x$ and $y$ (possibly using transformations)\n",
    "2. Setting up a prior distribution on the model parameters that accurately reflect substantive knowledge\n",
    "\n",
    "Statistical inference problem is to estimate the parameters $\\theta$, conditional on $\\mathbb{X}$ and $\\mathbb{y}$. "
   ]
  },
  {
   "cell_type": "markdown",
   "metadata": {
    "slideshow": {
     "slide_type": "slide"
    }
   },
   "source": [
    "## Notation for a basic normal linear model\n",
    "\n",
    "<br>\n",
    "<br>\n",
    "<center>\n",
    "$\\mathbb{y} | \\mathbb{\\beta}, \\sigma^2, \\mathbb{X} \\sim \\mathcal{N}\\left(\\mathbb{X}\\mathbb{\\beta},\\sigma^2{\\bf I}\\right)$\n",
    "</center>\n",
    "\n",
    "Multivariate normal distribution where as usual ${\\bf I}$ represents the identity matrix."
   ]
  },
  {
   "cell_type": "markdown",
   "metadata": {
    "slideshow": {
     "slide_type": "slide"
    }
   },
   "source": [
    "The likelihood becomes\n",
    "<br>\n",
    "<br>\n",
    "<center>\n",
    "$f\\left(\\mathbb{y} | \\mathbb{\\beta}, \\sigma^2\\right) = \\left(2\\pi\\sigma^2\\right)^{\\frac{-n}{2}}exp\\left[\\left(\\mathbb{y} - \\mathbb{X}\\mathbb{\\beta}\\right)'\\left(\\mathbb{y} - \\mathbb{X}\\mathbb{\\beta}\\right)/ \\left(2\\sigma^2\\right)\\right]$\n",
    "</center>"
   ]
  },
  {
   "cell_type": "markdown",
   "metadata": {
    "slideshow": {
     "slide_type": "slide"
    }
   },
   "source": [
    "$\\left(\\mathbb{y} - \\mathbb{X}\\mathbb{\\beta}\\right)'\\left(\\mathbb{y} - \\mathbb{X}\\mathbb{\\beta}\\right)$\n",
    "is referred to as the *quadratic form* "
   ]
  },
  {
   "cell_type": "markdown",
   "metadata": {
    "collapsed": true,
    "slideshow": {
     "slide_type": "slide"
    }
   },
   "source": [
    "## Least squares estimator of $\\mathbb{\\beta}$ \n",
    "<br>\n",
    "<br>\n",
    "<center>\n",
    "$\\hat{\\mathbb{\\beta}} = \\left(\\mathbb{X}^{T}\\mathbb{X}\\right)^{-1}\\mathbb{X}^{T}\\mathbb{y}$ \n",
    "</center>"
   ]
  },
  {
   "cell_type": "markdown",
   "metadata": {
    "slideshow": {
     "slide_type": "slide"
    }
   },
   "source": [
    "## Residual sum of squares\n",
    "\n",
    "<center>\n",
    "$S = \\left(\\mathbb{y} - \\mathbb{X}\\hat{\\mathbb{\\beta}}\\right)^{T}\\left(\\mathbb{y} - \\mathbb{X}\\hat{\\mathbb{\\beta}}\\right)$ \n",
    "</center>"
   ]
  },
  {
   "cell_type": "markdown",
   "metadata": {
    "slideshow": {
     "slide_type": "slide"
    }
   },
   "source": [
    "## The posterior distribution \n",
    "<br>\n",
    "<br>\n",
    "We focused on examples of normal distributions with unknown mean and variances in previous lectures. \n",
    "\n",
    "<span style=\"color:red\">Question: We are interested in the posterior distribution of...</span>"
   ]
  },
  {
   "cell_type": "markdown",
   "metadata": {
    "slideshow": {
     "slide_type": "slide"
    }
   },
   "source": [
    "## The posterior distribution \n",
    "<br>\n",
    "<br>\n",
    "\n",
    "<span style=\"color:blue\">$\\mathbb{\\beta}, \\sigma^2$</span>\n",
    "\n",
    "We factor the join posterior distribution for $\\mathbb{\\beta}$ and $\\sigma^2$ as\n",
    "<center>\n",
    "$p\\left(\\beta, \\sigma^2| y\\right) = p\\left(\\beta | \\sigma^2,  y\\right)p\\left(\\sigma^2| y\\right)$\n",
    "</center>"
   ]
  },
  {
   "cell_type": "markdown",
   "metadata": {
    "slideshow": {
     "slide_type": "slide"
    }
   },
   "source": [
    "## The posterior distribution \n",
    "<br>\n",
    "<br>\n",
    "Here, we are interested in determining first, the posterior distribution for $\\mathbb{\\beta}$, conditioning on $\\sigma^2$, and then the marginal posterior distribution for $\\sigma^2$. "
   ]
  },
  {
   "cell_type": "markdown",
   "metadata": {
    "slideshow": {
     "slide_type": "slide"
    }
   },
   "source": [
    "## The conditional posterior distribution of $\\mathbb{\\beta}$, given $\\sigma^2$ \n",
    "<br>\n",
    "<br>\n",
    "<center>\n",
    "$\\mathbb{\\beta} | \\sigma^2, \\mathbb{y} \\sim \\mathcal{N}\\left(\\hat{\\mathbb{\\beta}}, {\\bf V}_{\\mathbb{\\beta}}\\sigma^2\\right)$,\n",
    "</center>"
   ]
  },
  {
   "cell_type": "markdown",
   "metadata": {
    "slideshow": {
     "slide_type": "slide"
    }
   },
   "source": [
    "## Least squares estimator of $\\mathbb{\\beta}$ \n",
    "<br>\n",
    "<br>\n",
    "<center>\n",
    "$\\hat{\\mathbb{\\beta}} = \\left(\\mathbb{X}^{T}\\mathbb{X}\\right)^{-1}\\mathbb{X}^{T}\\mathbb{y}$ \n",
    "</center>"
   ]
  },
  {
   "cell_type": "markdown",
   "metadata": {
    "slideshow": {
     "slide_type": "slide"
    }
   },
   "source": [
    "## ${\\bf V}_{\\mathbb{\\beta}}$\n",
    "<br>\n",
    "<br>\n",
    "<center>\n",
    "${\\bf V}_{\\mathbb{\\beta}}= \\left(\\mathbb{X}^{T}\\mathbb{X}\\right)^{-1}$\n",
    "</center>"
   ]
  },
  {
   "cell_type": "markdown",
   "metadata": {
    "slideshow": {
     "slide_type": "slide"
    }
   },
   "source": [
    "## Marginal posterior distribution of $\\sigma^2$\n",
    "<br>\n",
    "<br>\n",
    "<center>\n",
    "$\\sigma^2 | \\mathbb{y} \\sim IG\\left(\\frac{n-k}{2},s^2\\right)$,\n",
    "</center>"
   ]
  },
  {
   "cell_type": "markdown",
   "metadata": {
    "slideshow": {
     "slide_type": "slide"
    }
   },
   "source": [
    "What you usually do in practice is to draw inferences by simulation \n",
    "\n",
    "1. Draw simulations of $\\sigma^2$ \n",
    "2. Then, draw simulations of $\\mathbb{\\beta} | \\sigma^2$"
   ]
  },
  {
   "cell_type": "markdown",
   "metadata": {
    "slideshow": {
     "slide_type": "slide"
    }
   },
   "source": [
    "## non-Bayesian estimates of $\\mathbb{\\beta}$ and $\\sigma^2$ \n",
    "\n",
    "* $\\mathbb{\\hat{\\beta}}$\n",
    "* $s^2$ "
   ]
  },
  {
   "cell_type": "markdown",
   "metadata": {
    "slideshow": {
     "slide_type": "slide"
    }
   },
   "source": [
    "We obtain the classical standard error estimate for $\\beta$ by setting $\\sigma^2$ to $s^2$ "
   ]
  },
  {
   "cell_type": "markdown",
   "metadata": {
    "slideshow": {
     "slide_type": "slide"
    }
   },
   "source": [
    "## Case study : Trees\n",
    "### Plotting Outcome (Volume) as a function of Covariates (Girth, Height)\n",
    "Source: http://www.columbia.edu/~cjd11/charles_dimaggio/DIRE/styled-4/styled-11/code-8/"
   ]
  },
  {
   "cell_type": "code",
   "execution_count": 4,
   "metadata": {
    "collapsed": false,
    "slideshow": {
     "slide_type": "slide"
    }
   },
   "outputs": [
    {
     "data": {
      "text/html": [
       "<ol class=list-inline>\n",
       "\t<li>31</li>\n",
       "\t<li>3</li>\n",
       "</ol>\n"
      ],
      "text/latex": [
       "\\begin{enumerate*}\n",
       "\\item 31\n",
       "\\item 3\n",
       "\\end{enumerate*}\n"
      ],
      "text/markdown": [
       "1. 31\n",
       "2. 3\n",
       "\n",
       "\n"
      ],
      "text/plain": [
       "[1] 31  3"
      ]
     },
     "metadata": {},
     "output_type": "display_data"
    },
    {
     "data": {
      "text/html": [
       "<table>\n",
       "<thead><tr><th scope=col>Girth</th><th scope=col>Height</th><th scope=col>Volume</th></tr></thead>\n",
       "<tbody>\n",
       "\t<tr><td> 8.3</td><td>70  </td><td>10.3</td></tr>\n",
       "\t<tr><td> 8.6</td><td>65  </td><td>10.3</td></tr>\n",
       "\t<tr><td> 8.8</td><td>63  </td><td>10.2</td></tr>\n",
       "\t<tr><td>10.5</td><td>72  </td><td>16.4</td></tr>\n",
       "\t<tr><td>10.7</td><td>81  </td><td>18.8</td></tr>\n",
       "\t<tr><td>10.8</td><td>83  </td><td>19.7</td></tr>\n",
       "\t<tr><td>11.0</td><td>66  </td><td>15.6</td></tr>\n",
       "\t<tr><td>11.0</td><td>75  </td><td>18.2</td></tr>\n",
       "\t<tr><td>11.1</td><td>80  </td><td>22.6</td></tr>\n",
       "\t<tr><td>11.2</td><td>75  </td><td>19.9</td></tr>\n",
       "\t<tr><td>11.3</td><td>79  </td><td>24.2</td></tr>\n",
       "\t<tr><td>11.4</td><td>76  </td><td>21.0</td></tr>\n",
       "\t<tr><td>11.4</td><td>76  </td><td>21.4</td></tr>\n",
       "\t<tr><td>11.7</td><td>69  </td><td>21.3</td></tr>\n",
       "\t<tr><td>12.0</td><td>75  </td><td>19.1</td></tr>\n",
       "\t<tr><td>12.9</td><td>74  </td><td>22.2</td></tr>\n",
       "\t<tr><td>12.9</td><td>85  </td><td>33.8</td></tr>\n",
       "\t<tr><td>13.3</td><td>86  </td><td>27.4</td></tr>\n",
       "\t<tr><td>13.7</td><td>71  </td><td>25.7</td></tr>\n",
       "\t<tr><td>13.8</td><td>64  </td><td>24.9</td></tr>\n",
       "\t<tr><td>14.0</td><td>78  </td><td>34.5</td></tr>\n",
       "\t<tr><td>14.2</td><td>80  </td><td>31.7</td></tr>\n",
       "\t<tr><td>14.5</td><td>74  </td><td>36.3</td></tr>\n",
       "\t<tr><td>16.0</td><td>72  </td><td>38.3</td></tr>\n",
       "\t<tr><td>16.3</td><td>77  </td><td>42.6</td></tr>\n",
       "\t<tr><td>17.3</td><td>81  </td><td>55.4</td></tr>\n",
       "\t<tr><td>17.5</td><td>82  </td><td>55.7</td></tr>\n",
       "\t<tr><td>17.9</td><td>80  </td><td>58.3</td></tr>\n",
       "\t<tr><td>18.0</td><td>80  </td><td>51.5</td></tr>\n",
       "\t<tr><td>18.0</td><td>80  </td><td>51.0</td></tr>\n",
       "\t<tr><td>20.6</td><td>87  </td><td>77.0</td></tr>\n",
       "</tbody>\n",
       "</table>\n"
      ],
      "text/latex": [
       "\\begin{tabular}{r|lll}\n",
       " Girth & Height & Volume\\\\\n",
       "\\hline\n",
       "\t  8.3 & 70   & 10.3\\\\\n",
       "\t  8.6 & 65   & 10.3\\\\\n",
       "\t  8.8 & 63   & 10.2\\\\\n",
       "\t 10.5 & 72   & 16.4\\\\\n",
       "\t 10.7 & 81   & 18.8\\\\\n",
       "\t 10.8 & 83   & 19.7\\\\\n",
       "\t 11.0 & 66   & 15.6\\\\\n",
       "\t 11.0 & 75   & 18.2\\\\\n",
       "\t 11.1 & 80   & 22.6\\\\\n",
       "\t 11.2 & 75   & 19.9\\\\\n",
       "\t 11.3 & 79   & 24.2\\\\\n",
       "\t 11.4 & 76   & 21.0\\\\\n",
       "\t 11.4 & 76   & 21.4\\\\\n",
       "\t 11.7 & 69   & 21.3\\\\\n",
       "\t 12.0 & 75   & 19.1\\\\\n",
       "\t 12.9 & 74   & 22.2\\\\\n",
       "\t 12.9 & 85   & 33.8\\\\\n",
       "\t 13.3 & 86   & 27.4\\\\\n",
       "\t 13.7 & 71   & 25.7\\\\\n",
       "\t 13.8 & 64   & 24.9\\\\\n",
       "\t 14.0 & 78   & 34.5\\\\\n",
       "\t 14.2 & 80   & 31.7\\\\\n",
       "\t 14.5 & 74   & 36.3\\\\\n",
       "\t 16.0 & 72   & 38.3\\\\\n",
       "\t 16.3 & 77   & 42.6\\\\\n",
       "\t 17.3 & 81   & 55.4\\\\\n",
       "\t 17.5 & 82   & 55.7\\\\\n",
       "\t 17.9 & 80   & 58.3\\\\\n",
       "\t 18.0 & 80   & 51.5\\\\\n",
       "\t 18.0 & 80   & 51.0\\\\\n",
       "\t 20.6 & 87   & 77.0\\\\\n",
       "\\end{tabular}\n"
      ],
      "text/markdown": [
       "\n",
       "Girth | Height | Volume | \n",
       "|---|---|---|---|---|---|---|---|---|---|---|---|---|---|---|---|---|---|---|---|---|---|---|---|---|---|---|---|---|---|---|\n",
       "|  8.3 | 70   | 10.3 | \n",
       "|  8.6 | 65   | 10.3 | \n",
       "|  8.8 | 63   | 10.2 | \n",
       "| 10.5 | 72   | 16.4 | \n",
       "| 10.7 | 81   | 18.8 | \n",
       "| 10.8 | 83   | 19.7 | \n",
       "| 11.0 | 66   | 15.6 | \n",
       "| 11.0 | 75   | 18.2 | \n",
       "| 11.1 | 80   | 22.6 | \n",
       "| 11.2 | 75   | 19.9 | \n",
       "| 11.3 | 79   | 24.2 | \n",
       "| 11.4 | 76   | 21.0 | \n",
       "| 11.4 | 76   | 21.4 | \n",
       "| 11.7 | 69   | 21.3 | \n",
       "| 12.0 | 75   | 19.1 | \n",
       "| 12.9 | 74   | 22.2 | \n",
       "| 12.9 | 85   | 33.8 | \n",
       "| 13.3 | 86   | 27.4 | \n",
       "| 13.7 | 71   | 25.7 | \n",
       "| 13.8 | 64   | 24.9 | \n",
       "| 14.0 | 78   | 34.5 | \n",
       "| 14.2 | 80   | 31.7 | \n",
       "| 14.5 | 74   | 36.3 | \n",
       "| 16.0 | 72   | 38.3 | \n",
       "| 16.3 | 77   | 42.6 | \n",
       "| 17.3 | 81   | 55.4 | \n",
       "| 17.5 | 82   | 55.7 | \n",
       "| 17.9 | 80   | 58.3 | \n",
       "| 18.0 | 80   | 51.5 | \n",
       "| 18.0 | 80   | 51.0 | \n",
       "| 20.6 | 87   | 77.0 | \n",
       "\n",
       "\n"
      ],
      "text/plain": [
       "   Girth Height Volume\n",
       "1   8.3  70     10.3  \n",
       "2   8.6  65     10.3  \n",
       "3   8.8  63     10.2  \n",
       "4  10.5  72     16.4  \n",
       "5  10.7  81     18.8  \n",
       "6  10.8  83     19.7  \n",
       "7  11.0  66     15.6  \n",
       "8  11.0  75     18.2  \n",
       "9  11.1  80     22.6  \n",
       "10 11.2  75     19.9  \n",
       "11 11.3  79     24.2  \n",
       "12 11.4  76     21.0  \n",
       "13 11.4  76     21.4  \n",
       "14 11.7  69     21.3  \n",
       "15 12.0  75     19.1  \n",
       "16 12.9  74     22.2  \n",
       "17 12.9  85     33.8  \n",
       "18 13.3  86     27.4  \n",
       "19 13.7  71     25.7  \n",
       "20 13.8  64     24.9  \n",
       "21 14.0  78     34.5  \n",
       "22 14.2  80     31.7  \n",
       "23 14.5  74     36.3  \n",
       "24 16.0  72     38.3  \n",
       "25 16.3  77     42.6  \n",
       "26 17.3  81     55.4  \n",
       "27 17.5  82     55.7  \n",
       "28 17.9  80     58.3  \n",
       "29 18.0  80     51.5  \n",
       "30 18.0  80     51.0  \n",
       "31 20.6  87     77.0  "
      ]
     },
     "metadata": {},
     "output_type": "display_data"
    }
   ],
   "source": [
    "\n",
    "data(trees)\n",
    "attach(trees)\n",
    "dim(trees)\n",
    "trees\n",
    " \n",
    " "
   ]
  },
  {
   "cell_type": "code",
   "execution_count": 5,
   "metadata": {
    "collapsed": false,
    "slideshow": {
     "slide_type": "slide"
    }
   },
   "outputs": [
    {
     "data": {
      "image/png": "[encoded data removed]",
      "text/plain": [
       "plot without title"
      ]
     },
     "metadata": {},
     "output_type": "display_data"
    }
   ],
   "source": [
    "par(mfrow=c(1,2))\n",
    "plot(Girth,Volume,pch=19)\n",
    "plot(Height,Volume,pch=19)\n",
    " \n"
   ]
  },
  {
   "cell_type": "code",
   "execution_count": 6,
   "metadata": {
    "collapsed": false,
    "slideshow": {
     "slide_type": "slide"
    }
   },
   "outputs": [
    {
     "data": {
      "text/plain": [
       "\n",
       "Call:\n",
       "lm(formula = Volume ~ Girth + Height)\n",
       "\n",
       "Residuals:\n",
       "    Min      1Q  Median      3Q     Max \n",
       "-6.4065 -2.6493 -0.2876  2.2003  8.4847 \n",
       "\n",
       "Coefficients:\n",
       "            Estimate Std. Error t value Pr(>|t|)    \n",
       "(Intercept) -57.9877     8.6382  -6.713 2.75e-07 ***\n",
       "Girth         4.7082     0.2643  17.816  < 2e-16 ***\n",
       "Height        0.3393     0.1302   2.607   0.0145 *  \n",
       "---\n",
       "Signif. codes:  0 ‘***’ 0.001 ‘**’ 0.01 ‘*’ 0.05 ‘.’ 0.1 ‘ ’ 1\n",
       "\n",
       "Residual standard error: 3.882 on 28 degrees of freedom\n",
       "Multiple R-squared:  0.948,\tAdjusted R-squared:  0.9442 \n",
       "F-statistic:   255 on 2 and 28 DF,  p-value: < 2.2e-16\n"
      ]
     },
     "metadata": {},
     "output_type": "display_data"
    }
   ],
   "source": [
    "## MLE fit of Regression Model\n",
    "model <- lm(Volume~Girth+Height)\n",
    "summary(model)"
   ]
  },
  {
   "cell_type": "markdown",
   "metadata": {
    "slideshow": {
     "slide_type": "slide"
    }
   },
   "source": [
    "## Sampling from posterior distribution of coefficients beta and variance sigsq\n",
    " \n",
    "\n",
    " \n"
   ]
  },
  {
   "cell_type": "code",
   "execution_count": 8,
   "metadata": {
    "collapsed": true,
    "slideshow": {
     "slide_type": "fragment"
    }
   },
   "outputs": [],
   "source": [
    "  beta.hat <- model$coef\n",
    "  n <- length(Volume)\n",
    "  k <- length(beta.hat)\n",
    "  s2 <- (n-k)*summary(model)$sigma^2\n",
    "  V.beta <- summary(model)$cov.unscaled"
   ]
  },
  {
   "cell_type": "code",
   "execution_count": 9,
   "metadata": {
    "collapsed": false,
    "slideshow": {
     "slide_type": "slide"
    }
   },
   "outputs": [],
   "source": [
    "numsamp <- 1000\n",
    "beta.samp <- matrix(NA,nrow=numsamp,ncol=k)\n",
    "sigsq.samp <- rep(NA,numsamp)\n",
    "for (i in 1:numsamp){\n",
    "    temp <- rgamma(1,shape=(n-k)/2,rate=s2/2)\n",
    "    cursigsq <- 1/temp # sampling from IG\n",
    "    curvarbeta <- cursigsq*V.beta # sigma^2 *V_{beta}\n",
    "    curvarbeta.chol <- t(chol(curvarbeta))\n",
    "    z <- rnorm(k,0,1)\n",
    "    curbeta <- beta.hat+curvarbeta.chol%*%z # sampling from normal\n",
    "    sigsq.samp[i] <- cursigsq\n",
    "    beta.samp[i,] <- curbeta\n",
    "  }\n"
   ]
  },
  {
   "cell_type": "code",
   "execution_count": 10,
   "metadata": {
    "collapsed": false,
    "slideshow": {
     "slide_type": "slide"
    }
   },
   "outputs": [
    {
     "data": {
      "image/png": "[encoded data removed]",
      "text/plain": [
       "Plot with title “Girth”"
      ]
     },
     "metadata": {},
     "output_type": "display_data"
    }
   ],
   "source": [
    "## Plotting Posterior Samples for coefficients beta and variance sigsq\n",
    " par(mfrow = c(1,2))\n",
    "  hist(beta.samp[,1],main=\"Intercept\",col=\"gray\")\n",
    "  abline(v=beta.hat[1],col=\"red\")\n",
    "  hist(beta.samp[,2],main=\"Girth\",col=\"gray\")\n",
    "  abline(v=beta.hat[2],col=\"red\")\n"
   ]
  },
  {
   "cell_type": "code",
   "execution_count": 11,
   "metadata": {
    "collapsed": false,
    "slideshow": {
     "slide_type": "slide"
    }
   },
   "outputs": [
    {
     "data": {
      "image/png": "[encoded data removed]",
      "text/plain": [
       "Plot with title “Sigsq”"
      ]
     },
     "metadata": {},
     "output_type": "display_data"
    }
   ],
   "source": [
    " par(mfrow = c(1,2))\n",
    " hist(beta.samp[,3],main=\"Height\",col=\"gray\")\n",
    " abline(v=beta.hat[3],col=\"red\")\n",
    " hist(sigsq.samp,main=\"Sigsq\",col=\"gray\")\n",
    " abline(v=summary(model)$sigma^2,col=\"red\")\n",
    " "
   ]
  },
  {
   "cell_type": "markdown",
   "metadata": {
    "slideshow": {
     "slide_type": "slide"
    }
   },
   "source": [
    "## Posterior predictive distribution for new data \n",
    "\n",
    "Suppose we apply the regression model to a new set of data, for which we have observed the matrix $\\mathbb{\\tilde{X}}$ of explanatory variables, and we wish to predict the outcomes, $\\mathbb{\\tilde{y}}$. "
   ]
  },
  {
   "cell_type": "markdown",
   "metadata": {
    "slideshow": {
     "slide_type": "slide"
    }
   },
   "source": [
    "* If $\\mathbb{\\beta}$ and $\\sigma^2$ were known exactly, the vector $\\mathbb{\\tilde{y}}$ would have a normal distribution with mean $\\mathbb{\\tilde{X}}\\mathbb{\\beta}$ and variance matrix $\\sigma^2\\bf{I}$. \n",
    "\n",
    "* Instead, it is summarized by our posterior distribution."
   ]
  },
  {
   "cell_type": "markdown",
   "metadata": {
    "slideshow": {
     "slide_type": "slide"
    }
   },
   "source": [
    "To draw a random sample $\\mathbb{\\tilde{y}}$ from its posterior predictive distribution\n",
    "\n",
    "* We first draw $\\left(\\mathbb{\\beta}, \\sigma^2\\right)$ from the joint posterior distribution\n",
    "\n",
    "* Then, we draw $\\mathbb{\\tilde{y}} \\sim \\mathcal{N}\\left(\\mathbb{\\tilde{X}}\\mathbb{\\beta}, \\sigma^2\\bf{I}\\right)$"
   ]
  },
  {
   "cell_type": "markdown",
   "metadata": {
    "slideshow": {
     "slide_type": "slide"
    }
   },
   "source": [
    "##  Posterior Predictive Sampling for new tree with girth = 18 and height = 80\n",
    " "
   ]
  },
  {
   "cell_type": "code",
   "execution_count": 12,
   "metadata": {
    "collapsed": false,
    "slideshow": {
     "slide_type": "slide"
    }
   },
   "outputs": [],
   "source": [
    " Xstar <- c(1,18,80)  # new tree with girth = 18 and height = 80\n",
    " \n",
    "  Ystar.samp <- rep(NA,numsamp)\n",
    "  for (i in 1:numsamp){\n",
    "     Ystar.hat <- sum(beta.samp[i,]*Xstar) \n",
    "     Ystar.samp[i] <- rnorm(1,mean=Ystar.hat,sd=sqrt(sigsq.samp[i]))\n",
    "  } "
   ]
  },
  {
   "cell_type": "code",
   "execution_count": 13,
   "metadata": {
    "collapsed": false,
    "slideshow": {
     "slide_type": "slide"
    }
   },
   "outputs": [
    {
     "data": {
      "image/png": "[encoded data removed]",
      "text/plain": [
       "Plot with title “Tree Volume in Observed Data”"
      ]
     },
     "metadata": {},
     "output_type": "display_data"
    }
   ],
   "source": [
    "## Plotting Predictive Samples and Data on same scale\n",
    " \n",
    "  par(mfrow=c(1,1))\n",
    "  xmin <- min(Volume,Ystar.samp)\n",
    "  xmax <- max(Volume,Ystar.samp)\n",
    "  hist(Volume,main=\"Tree Volume in Observed Data\",xlim=c(0,90),breaks=10,col=\"gray\")\n",
    "  abline(v=mean(Volume),col=2)\n",
    "  "
   ]
  },
  {
   "cell_type": "code",
   "execution_count": 14,
   "metadata": {
    "collapsed": false,
    "slideshow": {
     "slide_type": "slide"
    }
   },
   "outputs": [
    {
     "data": {
      "image/png": "[encoded data removed]",
      "text/plain": [
       "Plot with title “Predicted Volume of Tree with girth = 85 and height = 80”"
      ]
     },
     "metadata": {},
     "output_type": "display_data"
    }
   ],
   "source": [
    "hist(Ystar.samp,main=\"Predicted Volume of Tree with girth = 85 and height = 80\",xlim=c(0,90),col=\"gray\")\n",
    "  abline(v=mean(Ystar.samp),col=2)"
   ]
  }
 ],
 "metadata": {
  "anaconda-cloud": {},
  "celltoolbar": "Slideshow",
  "kernelspec": {
   "display_name": "R [conda env:biods215]",
   "language": "R",
   "name": "conda-env-biods215-r"
  },
  "language_info": {
   "codemirror_mode": "r",
   "file_extension": ".r",
   "mimetype": "text/x-r-source",
   "name": "R",
   "pygments_lexer": "r",
   "version": "3.3.2"
  },
  "nbpresent": {
   "slides": {
    "04d7c5a0-9b6c-433c-8d99-4e56114712df": {
     "id": "04d7c5a0-9b6c-433c-8d99-4e56114712df",
     "prev": null,
     "regions": {
      "eebecc55-d5f7-4a4d-a73b-e4272f5344c1": {
       "attrs": {
        "height": 0.2,
        "width": 0.4,
        "x": 0.1,
        "y": 0.7
       },
       "id": "eebecc55-d5f7-4a4d-a73b-e4272f5344c1"
      },
      "f9c8be43-7bb2-49ef-88ad-a507c9e89db3": {
       "attrs": {
        "height": 0.2,
        "width": 0.4,
        "x": 0.5,
        "y": 0.7
       },
       "id": "f9c8be43-7bb2-49ef-88ad-a507c9e89db3"
      }
     }
    }
   },
   "themes": {
    "default": "d6f1057c-0e22-45cd-8fd4-bf87f7c944be",
    "theme": {
     "d6f1057c-0e22-45cd-8fd4-bf87f7c944be": {
      "backgrounds": {
       "backgroundColor": {
        "background-color": "backgroundColor",
        "id": "backgroundColor"
       }
      },
      "id": "d6f1057c-0e22-45cd-8fd4-bf87f7c944be",
      "palette": {
       "backgroundColor": {
        "id": "backgroundColor",
        "rgb": [
         34,
         34,
         34
        ]
       },
       "headingColor": {
        "id": "headingColor",
        "rgb": [
         238,
         238,
         238
        ]
       },
       "linkColor": {
        "id": "linkColor",
        "rgb": [
         170,
         34,
         51
        ]
       },
       "mainColor": {
        "id": "mainColor",
        "rgb": [
         238,
         238,
         238
        ]
       }
      },
      "rules": {
       "a": {
        "color": "linkColor"
       },
       "h1": {
        "color": "headingColor",
        "font-family": "Ubuntu",
        "font-size": 7
       },
       "h2": {
        "color": "headingColor",
        "font-family": "Ubuntu",
        "font-size": 5
       },
       "h3": {
        "color": "headingColor",
        "font-family": "Ubuntu",
        "font-size": 3.75
       },
       "h4": {
        "color": "headingColor",
        "font-family": "Ubuntu",
        "font-size": 3
       },
       "h5": {
        "color": "headingColor",
        "font-family": "Ubuntu"
       },
       "h6": {
        "color": "headingColor",
        "font-family": "Ubuntu"
       },
       "h7": {
        "color": "headingColor",
        "font-family": "Ubuntu"
       },
       "li": {
        "color": "mainColor",
        "font-family": "Ubuntu",
        "font-size": 5
       },
       "p": {
        "color": "mainColor",
        "font-family": "Ubuntu",
        "font-size": 5
       }
      },
      "text-base": {
       "color": "mainColor",
       "font-family": "Ubuntu",
       "font-size": 5
      }
     }
    }
   }
  }
 },
 "nbformat": 4,
 "nbformat_minor": 1
}
