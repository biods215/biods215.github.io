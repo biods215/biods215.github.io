{
 "cells": [
  {
   "cell_type": "markdown",
   "metadata": {},
   "source": [
    "# Linear Algebra\n",
    "\n",
    "- We’ve learned four ways to solve Least Squares problem. Here, we will focus on Least Squares using SVD and QR decomposition.\n",
    "- For questions a and b, please show the outputs of the code (the norms) and include a copy of Jupyter notebook (or similar kind), showing that you’ve solved the least squares.\n",
    "- Here, we provide a starting code using Python. However, if you prefer to use other languages, you may use it, too (please fix a random seed so that we can verify the answer).\n"
   ]
  },
  {
   "cell_type": "code",
   "execution_count": 1,
   "metadata": {},
   "outputs": [],
   "source": [
    "import numpy as np\n",
    "import numpy.linalg as la\n",
    "import scipy.linalg as spla\n"
   ]
  },
  {
   "cell_type": "markdown",
   "metadata": {},
   "source": [
    "Let’s do a tall matrix with a null space"
   ]
  },
  {
   "cell_type": "code",
   "execution_count": 2,
   "metadata": {},
   "outputs": [],
   "source": [
    "np.random.seed(40)\n",
    "X = np.random.randn(6,4)\n",
    "y  = np.random.randn(6)\n",
    "X[3] = X[4] + X[5]\n",
    "X[1] = X[5] + X[1]\n",
    "X[2] = X[3] + X[1]\n",
    "X[0] = X[3] + X[1]\n"
   ]
  },
  {
   "cell_type": "markdown",
   "metadata": {},
   "source": [
    "## a. Least squares with QR decomposition\n",
    "\n",
    "Let’s solve the least squares problem when matrix X has a null space using QR decomposition.\n"
   ]
  },
  {
   "cell_type": "code",
   "execution_count": 3,
   "metadata": {},
   "outputs": [
    {
     "data": {
      "text/plain": [
       "array([[ 2.908, -0.187, -3.714, -2.67 ],\n",
       "       [ 0.   ,  0.911, -0.734, -0.837],\n",
       "       [ 0.   ,  0.   , -0.666, -2.169],\n",
       "       [ 0.   ,  0.   ,  0.   , -0.   ]])"
      ]
     },
     "execution_count": 3,
     "metadata": {},
     "output_type": "execute_result"
    }
   ],
   "source": [
    "Q, R = la.qr(X)\n",
    "R.round(3)\n"
   ]
  },
  {
   "cell_type": "code",
   "execution_count": 4,
   "metadata": {},
   "outputs": [],
   "source": [
    "beta_qr = np.zeros(X.shape[1])\n",
    "beta_qr[3] = 0 \n",
    "QTbnew = Q.T.dot(y)[:3,] - R[:3, 3] * beta_qr[3]\n",
    "beta_qr[:3] = spla.solve_triangular(R[:3, :3], QTbnew, lower = False)\n"
   ]
  },
  {
   "cell_type": "markdown",
   "metadata": {},
   "source": [
    "Let’s focus on the residual norm and the norm of `beta_qr`"
   ]
  },
  {
   "cell_type": "code",
   "execution_count": 5,
   "metadata": {},
   "outputs": [
    {
     "data": {
      "text/plain": [
       "array([ 1.33226763e-15,  0.00000000e+00,  0.00000000e+00, -6.08537990e-01])"
      ]
     },
     "execution_count": 5,
     "metadata": {},
     "output_type": "execute_result"
    }
   ],
   "source": [
    "R.dot(beta_qr) - Q.T.dot(y)[:4]\n"
   ]
  },
  {
   "cell_type": "code",
   "execution_count": 6,
   "metadata": {},
   "outputs": [],
   "source": [
    "def show_residuals_and_norm(beta, X, y):\n",
    "    print(la.norm(X.dot(beta) - y, 2))\n",
    "    print(la.norm(beta, 2))"
   ]
  },
  {
   "cell_type": "code",
   "execution_count": 7,
   "metadata": {},
   "outputs": [
    {
     "name": "stdout",
     "output_type": "stream",
     "text": [
      "0.842345468623643\n",
      "5.397708623031269\n"
     ]
    }
   ],
   "source": [
    "show_residuals_and_norm(beta_qr, X, y)"
   ]
  },
  {
   "cell_type": "markdown",
   "metadata": {},
   "source": [
    "## b. Least squares with singular value decomposition (SVD)\n",
    "\n",
    "Let’s solve the least squares problem when the *matrix X has a nullspace* using SVD.\n",
    "\n",
    "Compute the SVD of *X*"
   ]
  },
  {
   "cell_type": "code",
   "execution_count": 8,
   "metadata": {},
   "outputs": [],
   "source": [
    "U, sigma, VT = la.svd(X)"
   ]
  },
  {
   "cell_type": "markdown",
   "metadata": {},
   "source": [
    "Work on a matrix $\\Sigma$"
   ]
  },
  {
   "cell_type": "code",
   "execution_count": 9,
   "metadata": {},
   "outputs": [],
   "source": [
    "Sigma = np.zeros(X.shape)\n",
    "Sigma[:4, :4] = np.diag(sigma)\n"
   ]
  },
  {
   "cell_type": "markdown",
   "metadata": {},
   "source": [
    "Check that we’ve factorized X:"
   ]
  },
  {
   "cell_type": "code",
   "execution_count": 10,
   "metadata": {},
   "outputs": [
    {
     "data": {
      "text/plain": [
       "array([[-0.,  0.,  0.,  0.],\n",
       "       [ 0.,  0.,  0.,  0.],\n",
       "       [-0.,  0.,  0.,  0.],\n",
       "       [ 0.,  0.,  0.,  0.],\n",
       "       [ 0., -0.,  0., -0.],\n",
       "       [-0.,  0., -0.,  0.]])"
      ]
     },
     "execution_count": 10,
     "metadata": {},
     "output_type": "execute_result"
    }
   ],
   "source": [
    "(U.dot(Sigma).dot(VT) - X).round(3)\n"
   ]
  },
  {
   "cell_type": "markdown",
   "metadata": {},
   "source": [
    "Let’s bring in in the pseudoinverse of $\\Sigma$, i.e. $\\Sigma^+$"
   ]
  },
  {
   "cell_type": "code",
   "execution_count": 11,
   "metadata": {},
   "outputs": [
    {
     "data": {
      "text/plain": [
       "array([[0.174, 0.   , 0.   , 0.   , 0.   , 0.   ],\n",
       "       [0.   , 0.583, 0.   , 0.   , 0.   , 0.   ],\n",
       "       [0.   , 0.   , 1.098, 0.   , 0.   , 0.   ],\n",
       "       [0.   , 0.   , 0.   , 0.   , 0.   , 0.   ]])"
      ]
     },
     "execution_count": 11,
     "metadata": {},
     "output_type": "execute_result"
    }
   ],
   "source": [
    "Sigma_pinv = np.zeros(X.shape).T\n",
    "Sigma_pinv[:3, :3] = np.diag(1/sigma[:3])\n",
    "Sigma_pinv.round(3)\n"
   ]
  },
  {
   "cell_type": "markdown",
   "metadata": {},
   "source": [
    "Now compute the SVD-based solution for the least-squares problem: "
   ]
  },
  {
   "cell_type": "code",
   "execution_count": 12,
   "metadata": {},
   "outputs": [],
   "source": [
    "beta_svd = VT.T.dot(Sigma_pinv).dot(U.T).dot(y)"
   ]
  },
  {
   "cell_type": "code",
   "execution_count": 13,
   "metadata": {},
   "outputs": [
    {
     "data": {
      "text/plain": [
       "array([ 0.31572878,  0.25675319, -0.13985239,  1.04043051])"
      ]
     },
     "execution_count": 13,
     "metadata": {},
     "output_type": "execute_result"
    }
   ],
   "source": [
    "beta_svd"
   ]
  },
  {
   "cell_type": "code",
   "execution_count": 14,
   "metadata": {},
   "outputs": [
    {
     "name": "stdout",
     "output_type": "stream",
     "text": [
      "0.842345468623643\n",
      "5.397708623031269\n"
     ]
    }
   ],
   "source": [
    "show_residuals_and_norm(beta_qr, X, y)"
   ]
  },
  {
   "cell_type": "markdown",
   "metadata": {},
   "source": [
    "## c. Observed behavior\n",
    "\n",
    "Please plot the beta from the QR decomposition and the beta from SVD. Please write a few notes on the observed behavior using QR decomposition and SVD for solving the least squares problem.\n"
   ]
  },
  {
   "cell_type": "code",
   "execution_count": 15,
   "metadata": {},
   "outputs": [],
   "source": [
    "import matplotlib\n",
    "import matplotlib.pyplot as plt\n",
    "import matplotlib.gridspec as gridspec\n",
    "import matplotlib.patches as mpatches"
   ]
  },
  {
   "cell_type": "code",
   "execution_count": 16,
   "metadata": {},
   "outputs": [],
   "source": [
    "def plot_betas(beta_svd, beta_qr):\n",
    "    fig = plt.figure(figsize=(6,6))\n",
    "    gs = gridspec.GridSpec(1, 1)\n",
    "    fig_axs = [fig.add_subplot(sp) for sp in gs]\n",
    "    ax = fig_axs[0]\n",
    "    beta_min = np.min([beta_qr, beta_svd])\n",
    "    beta_max = np.max([beta_qr, beta_svd])    \n",
    "    ax.plot(\n",
    "        np.linspace(beta_min - 0.2, beta_max + 0.2, 10), \n",
    "        np.linspace(beta_min - 0.2, beta_max + 0.2, 10), \n",
    "        '--', color='gray'\n",
    "    )\n",
    "    \n",
    "    ax.plot(\n",
    "        np.zeros(10), \n",
    "        np.linspace(beta_min - 0.2, beta_max + 0.2, 10), \n",
    "        '--', color='gray'\n",
    "    )\n",
    "    ax.plot(\n",
    "        np.linspace(beta_min - 0.2, beta_max + 0.2, 10),         \n",
    "        np.zeros(10),\n",
    "        '--', color='gray'\n",
    "    )\n",
    "    ax.scatter(beta_qr, beta_svd, color='red')\n",
    "    ax.set_title('Comparison of beta estimates from two methods', size=14)\n",
    "    ax.set_xlabel('Beta from QR (beta_qr)', size=14)\n",
    "    ax.set_ylabel('Beta from SVD (beta_svd)', size=14)\n",
    "    for i in (range(len(beta_qr))):\n",
    "        ax.annotate(f' {i + 1}', [beta_qr[i], beta_svd[i]], size=16)\n",
    "    gs.tight_layout(fig, rect=[0, 0, 1, 1]) \n",
    "    return(fig)\n"
   ]
  },
  {
   "cell_type": "code",
   "execution_count": 17,
   "metadata": {},
   "outputs": [
    {
     "data": {
      "image/png": "[encoded data removed]",
      "text/plain": [
       "<Figure size 432x432 with 1 Axes>"
      ]
     },
     "metadata": {
      "needs_background": "light"
     },
     "output_type": "display_data"
    }
   ],
   "source": [
    "f_beta = plot_betas(beta_svd, beta_qr)"
   ]
  },
  {
   "cell_type": "code",
   "execution_count": 18,
   "metadata": {},
   "outputs": [],
   "source": [
    "f_beta.savefig('BIODS215-2020_Problem_set_1_answer_Q2c.png')"
   ]
  },
  {
   "cell_type": "markdown",
   "metadata": {},
   "source": [
    "## d. “Better behaved” matrices"
   ]
  },
  {
   "cell_type": "code",
   "execution_count": 19,
   "metadata": {},
   "outputs": [],
   "source": [
    "np.random.seed(40)\n",
    "X_better = np.random.randn(6,6)\n",
    "y_better  = np.random.randn(6)\n"
   ]
  },
  {
   "cell_type": "markdown",
   "metadata": {},
   "source": [
    "### Solving Beta with QR"
   ]
  },
  {
   "cell_type": "code",
   "execution_count": 20,
   "metadata": {},
   "outputs": [
    {
     "data": {
      "text/plain": [
       "array([[ 2.676,  0.9  ,  1.131,  0.527, -0.2  ,  0.892],\n",
       "       [ 0.   ,  1.459, -0.646, -0.222, -0.092, -0.891],\n",
       "       [ 0.   ,  0.   ,  1.876, -0.306,  0.488,  0.394],\n",
       "       [ 0.   ,  0.   ,  0.   ,  1.368, -0.257, -0.843],\n",
       "       [ 0.   ,  0.   ,  0.   ,  0.   ,  2.634, -0.678],\n",
       "       [ 0.   ,  0.   ,  0.   ,  0.   ,  0.   , -1.075]])"
      ]
     },
     "execution_count": 20,
     "metadata": {},
     "output_type": "execute_result"
    }
   ],
   "source": [
    "Q_better, R_better = la.qr(X_better)\n",
    "R_better.round(3)\n"
   ]
  },
  {
   "cell_type": "code",
   "execution_count": 21,
   "metadata": {},
   "outputs": [],
   "source": [
    "beta_qr_better = spla.solve_triangular(R_better, Q_better.T.dot(y_better), lower = False)\n"
   ]
  },
  {
   "cell_type": "code",
   "execution_count": 22,
   "metadata": {},
   "outputs": [
    {
     "name": "stdout",
     "output_type": "stream",
     "text": [
      "5.297244499711338e-16\n",
      "1.9729759658826995\n"
     ]
    }
   ],
   "source": [
    "show_residuals_and_norm(beta_qr_better, X_better, y_better)"
   ]
  },
  {
   "cell_type": "markdown",
   "metadata": {},
   "source": [
    "### Solving Beta with SVD"
   ]
  },
  {
   "cell_type": "code",
   "execution_count": 23,
   "metadata": {},
   "outputs": [
    {
     "data": {
      "text/plain": [
       "array([[ 0., -0., -0.,  0., -0., -0.],\n",
       "       [-0., -0.,  0.,  0.,  0.,  0.],\n",
       "       [ 0., -0.,  0., -0., -0.,  0.],\n",
       "       [ 0.,  0., -0.,  0., -0., -0.],\n",
       "       [ 0.,  0., -0., -0.,  0., -0.],\n",
       "       [ 0.,  0., -0.,  0., -0.,  0.]])"
      ]
     },
     "execution_count": 23,
     "metadata": {},
     "output_type": "execute_result"
    }
   ],
   "source": [
    "U_better, sigma_better, VT_better = la.svd(X_better)\n",
    "(U_better.dot(np.diag(sigma_better)).dot(VT_better) - X_better).round(3)\n"
   ]
  },
  {
   "cell_type": "code",
   "execution_count": 24,
   "metadata": {},
   "outputs": [
    {
     "data": {
      "text/plain": [
       "array([[0.295, 0.   , 0.   , 0.   , 0.   , 0.   ],\n",
       "       [0.   , 0.361, 0.   , 0.   , 0.   , 0.   ],\n",
       "       [0.   , 0.   , 0.442, 0.   , 0.   , 0.   ],\n",
       "       [0.   , 0.   , 0.   , 0.633, 0.   , 0.   ],\n",
       "       [0.   , 0.   , 0.   , 0.   , 0.742, 0.   ],\n",
       "       [0.   , 0.   , 0.   , 0.   , 0.   , 1.59 ]])"
      ]
     },
     "execution_count": 24,
     "metadata": {},
     "output_type": "execute_result"
    }
   ],
   "source": [
    "Sigma_pinv_better = np.diag(1/sigma_better)\n",
    "Sigma_pinv_better.round(3)\n"
   ]
  },
  {
   "cell_type": "code",
   "execution_count": 25,
   "metadata": {},
   "outputs": [],
   "source": [
    "beta_svd_better = VT_better.T.dot(Sigma_pinv_better).dot(U_better.T).dot(y_better)\n"
   ]
  },
  {
   "cell_type": "code",
   "execution_count": 26,
   "metadata": {},
   "outputs": [
    {
     "name": "stdout",
     "output_type": "stream",
     "text": [
      "1.1518563880486e-15\n",
      "1.9729759658826995\n"
     ]
    }
   ],
   "source": [
    "show_residuals_and_norm(beta_svd_better, X_better, y_better)"
   ]
  },
  {
   "cell_type": "markdown",
   "metadata": {},
   "source": [
    "### Comparison of the two methods"
   ]
  },
  {
   "cell_type": "code",
   "execution_count": 27,
   "metadata": {},
   "outputs": [
    {
     "data": {
      "image/png": "[encoded data removed]",
      "text/plain": [
       "<Figure size 432x432 with 1 Axes>"
      ]
     },
     "metadata": {
      "needs_background": "light"
     },
     "output_type": "display_data"
    }
   ],
   "source": [
    "f_beta_better = plot_betas(beta_svd_better, beta_qr_better)"
   ]
  },
  {
   "cell_type": "code",
   "execution_count": 28,
   "metadata": {},
   "outputs": [],
   "source": [
    "f_beta_better.savefig('BIODS215-2020_Problem_set_1_answer_Q2d.png')"
   ]
  },
  {
   "cell_type": "markdown",
   "metadata": {},
   "source": [
    "## e. Solving a linear system"
   ]
  },
  {
   "cell_type": "code",
   "execution_count": 29,
   "metadata": {},
   "outputs": [],
   "source": [
    "beta_normal = la.inv(X.T.dot(X)).dot(X.T).dot(y)\n"
   ]
  },
  {
   "cell_type": "code",
   "execution_count": 30,
   "metadata": {},
   "outputs": [
    {
     "name": "stdout",
     "output_type": "stream",
     "text": [
      "1.0286714865770377\n",
      "1.4825615460039647\n"
     ]
    }
   ],
   "source": [
    "show_residuals_and_norm(beta_normal, X, y)"
   ]
  },
  {
   "cell_type": "code",
   "execution_count": 31,
   "metadata": {},
   "outputs": [
    {
     "data": {
      "text/plain": [
       "array([ 0.48283736,  0.84320332, -0.16533215,  1.10748827])"
      ]
     },
     "execution_count": 31,
     "metadata": {},
     "output_type": "execute_result"
    }
   ],
   "source": [
    "beta_normal"
   ]
  },
  {
   "cell_type": "code",
   "execution_count": 32,
   "metadata": {},
   "outputs": [
    {
     "data": {
      "image/png": "[encoded data removed]",
      "text/plain": [
       "<Figure size 432x432 with 1 Axes>"
      ]
     },
     "metadata": {
      "needs_background": "light"
     },
     "output_type": "display_data"
    }
   ],
   "source": [
    "fig = plt.figure(figsize=(6,6))\n",
    "gs = gridspec.GridSpec(1, 1)\n",
    "fig_axs = [fig.add_subplot(sp) for sp in gs]\n",
    "ax = fig_axs[0]\n",
    "beta_min = np.min([beta_qr, beta_svd, beta_normal])\n",
    "beta_max = np.max([beta_qr, beta_svd, beta_normal])\n",
    "xaxis = np.arange(4) + 1\n",
    "ax.plot(xaxis, beta_normal, 'go', label='beta_normal')\n",
    "ax.plot(xaxis, beta_qr,     'b*', label='beta_qr')\n",
    "ax.plot(xaxis, beta_svd,    'r+', label='beta_svd')\n",
    "ax.plot(xaxis, np.zeros(4), '--', color='gray', label='beta = 0')\n",
    "ax.legend()\n",
    "ax.set_title('Comparison of betas', size=14)\n",
    "ax.set_xlabel('1-based index of beta vector', size=14)\n",
    "ax.set_ylabel('Beta value', size=14)\n",
    "gs.tight_layout(fig, rect=[0, 0, 1, 1]) \n",
    "# return(fig)\n"
   ]
  },
  {
   "cell_type": "code",
   "execution_count": 33,
   "metadata": {},
   "outputs": [],
   "source": [
    "fig.savefig('BIODS215-2020_Problem_set_1_answer_Q2e.png')"
   ]
  },
  {
   "cell_type": "code",
   "execution_count": null,
   "metadata": {},
   "outputs": [],
   "source": []
  }
 ],
 "metadata": {
  "kernelspec": {
   "display_name": "Python 3",
   "language": "python",
   "name": "python3"
  },
  "language_info": {
   "codemirror_mode": {
    "name": "ipython",
    "version": 3
   },
   "file_extension": ".py",
   "mimetype": "text/x-python",
   "name": "python",
   "nbconvert_exporter": "python",
   "pygments_lexer": "ipython3",
   "version": "3.7.3"
  }
 },
 "nbformat": 4,
 "nbformat_minor": 4
}
